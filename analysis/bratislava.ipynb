{
 "cells": [
  {
   "cell_type": "code",
   "execution_count": 16,
   "metadata": {},
   "outputs": [],
   "source": [
    "import pandas as pd\n",
    "import numpy as np\n",
    "import os\n",
    "import seaborn as sns\n",
    "from collections import Counter\n",
    "import matplotlib\n",
    "from matplotlib.colors import ListedColormap\n",
    "import cartopy\n",
    "import cartopy.crs as ccrs\n",
    "import cartopy.feature as cfeature\n",
    "import matplotlib.pyplot as plt\n",
    "\n",
    "current_palette = sns.color_palette()\n",
    "cmap = ListedColormap(sns.color_palette(current_palette).as_hex())\n",
    "\n",
    "sns.set(rc={'figure.figsize':(10,4)}, font_scale=1.0, style='whitegrid', font='CMU Sans Serif')\n",
    "matplotlib.rcParams['pdf.fonttype'] = 42\n",
    "matplotlib.rcParams['ps.fonttype'] = 42\n",
    "\n",
    "def save_fig(ax, folder, suffix, format=\"pdf\"):\n",
    "    fig = ax.get_figure()\n",
    "    fig.tight_layout()\n",
    "\n",
    "    fig.savefig(folder + suffix + \".\" + format)\n",
    "    fig.clear()"
   ]
  },
  {
   "cell_type": "code",
   "execution_count": 17,
   "metadata": {},
   "outputs": [],
   "source": [
    "import warnings\n",
    "warnings.filterwarnings('ignore')"
   ]
  },
  {
   "cell_type": "code",
   "execution_count": 18,
   "metadata": {},
   "outputs": [],
   "source": [
    "locations = pd.read_csv(os.path.join(\"..\", \"eu_cities.csv\"))\n",
    "locations = locations[[\"city_ascii\", \"lng\", \"lat\"]]\n",
    "locations.rename(columns = {\"city_ascii\": \"Client\", \"lng\": \"Longitude\", \"lat\": \"Latitude\"}, inplace=True)"
   ]
  },
  {
   "cell_type": "code",
   "execution_count": 19,
   "metadata": {},
   "outputs": [],
   "source": [
    "RESULTS_DIR = os.path.join(\"..\", \"results\")\n",
    "FILENAME = \"results-\""
   ]
  },
  {
   "cell_type": "code",
   "execution_count": 20,
   "metadata": {},
   "outputs": [
    {
     "data": {
      "text/html": [
       "<div>\n",
       "<style scoped>\n",
       "    .dataframe tbody tr th:only-of-type {\n",
       "        vertical-align: middle;\n",
       "    }\n",
       "\n",
       "    .dataframe tbody tr th {\n",
       "        vertical-align: top;\n",
       "    }\n",
       "\n",
       "    .dataframe thead th {\n",
       "        text-align: right;\n",
       "    }\n",
       "</style>\n",
       "<table border=\"1\" class=\"dataframe\">\n",
       "  <thead>\n",
       "    <tr style=\"text-align: right;\">\n",
       "      <th></th>\n",
       "      <th>Timestamp</th>\n",
       "      <th>Type</th>\n",
       "      <th>Name</th>\n",
       "      <th>50%</th>\n",
       "      <th>90%</th>\n",
       "      <th>Total Median Response Time</th>\n",
       "      <th>Total Average Response Time</th>\n",
       "      <th>Client</th>\n",
       "      <th>Experiment</th>\n",
       "      <th>Run</th>\n",
       "      <th>Latitude</th>\n",
       "      <th>Longitude</th>\n",
       "    </tr>\n",
       "  </thead>\n",
       "  <tbody>\n",
       "    <tr>\n",
       "      <th>1</th>\n",
       "      <td>0.0</td>\n",
       "      <td>GET</td>\n",
       "      <td>/</td>\n",
       "      <td>0.0</td>\n",
       "      <td>0.0</td>\n",
       "      <td>408.0</td>\n",
       "      <td>408.0</td>\n",
       "      <td>Bratislava</td>\n",
       "      <td>cloud</td>\n",
       "      <td>3</td>\n",
       "      <td>48.1447</td>\n",
       "      <td>17.1128</td>\n",
       "    </tr>\n",
       "    <tr>\n",
       "      <th>2</th>\n",
       "      <td>0.0</td>\n",
       "      <td>GET</td>\n",
       "      <td>/auth/login/</td>\n",
       "      <td>0.0</td>\n",
       "      <td>0.0</td>\n",
       "      <td>122.0</td>\n",
       "      <td>122.0</td>\n",
       "      <td>Bratislava</td>\n",
       "      <td>cloud</td>\n",
       "      <td>3</td>\n",
       "      <td>48.1447</td>\n",
       "      <td>17.1128</td>\n",
       "    </tr>\n",
       "    <tr>\n",
       "      <th>4</th>\n",
       "      <td>1.0</td>\n",
       "      <td>GET</td>\n",
       "      <td>/</td>\n",
       "      <td>410.0</td>\n",
       "      <td>410.0</td>\n",
       "      <td>408.0</td>\n",
       "      <td>408.0</td>\n",
       "      <td>Bratislava</td>\n",
       "      <td>cloud</td>\n",
       "      <td>3</td>\n",
       "      <td>48.1447</td>\n",
       "      <td>17.1128</td>\n",
       "    </tr>\n",
       "    <tr>\n",
       "      <th>5</th>\n",
       "      <td>1.0</td>\n",
       "      <td>GET</td>\n",
       "      <td>/auth/login/</td>\n",
       "      <td>120.0</td>\n",
       "      <td>120.0</td>\n",
       "      <td>122.0</td>\n",
       "      <td>122.0</td>\n",
       "      <td>Bratislava</td>\n",
       "      <td>cloud</td>\n",
       "      <td>3</td>\n",
       "      <td>48.1447</td>\n",
       "      <td>17.1128</td>\n",
       "    </tr>\n",
       "    <tr>\n",
       "      <th>6</th>\n",
       "      <td>1.0</td>\n",
       "      <td>POST</td>\n",
       "      <td>/auth/login/</td>\n",
       "      <td>0.0</td>\n",
       "      <td>0.0</td>\n",
       "      <td>831.0</td>\n",
       "      <td>831.0</td>\n",
       "      <td>Bratislava</td>\n",
       "      <td>cloud</td>\n",
       "      <td>3</td>\n",
       "      <td>48.1447</td>\n",
       "      <td>17.1128</td>\n",
       "    </tr>\n",
       "  </tbody>\n",
       "</table>\n",
       "</div>"
      ],
      "text/plain": [
       "   Timestamp  Type          Name    50%    90%  Total Median Response Time  \\\n",
       "1        0.0   GET             /    0.0    0.0                       408.0   \n",
       "2        0.0   GET  /auth/login/    0.0    0.0                       122.0   \n",
       "4        1.0   GET             /  410.0  410.0                       408.0   \n",
       "5        1.0   GET  /auth/login/  120.0  120.0                       122.0   \n",
       "6        1.0  POST  /auth/login/    0.0    0.0                       831.0   \n",
       "\n",
       "   Total Average Response Time      Client Experiment Run  Latitude  Longitude  \n",
       "1                        408.0  Bratislava      cloud   3   48.1447    17.1128  \n",
       "2                        122.0  Bratislava      cloud   3   48.1447    17.1128  \n",
       "4                        408.0  Bratislava      cloud   3   48.1447    17.1128  \n",
       "5                        122.0  Bratislava      cloud   3   48.1447    17.1128  \n",
       "6                        831.0  Bratislava      cloud   3   48.1447    17.1128  "
      ]
     },
     "execution_count": 20,
     "metadata": {},
     "output_type": "execute_result"
    }
   ],
   "source": [
    "df_paper = pd.DataFrame()\n",
    "\n",
    "for experiment in [\"cloud\", \"sat\"]:\n",
    "    for run in [\"3\"]: #for run in [\"1\", \"2\", \"3\"]:\n",
    "        NAME = FILENAME + experiment + \"-\" + run\n",
    "        files = os.listdir(os.path.join(\".\", RESULTS_DIR, NAME))\n",
    "\n",
    "        df_experiment = pd.DataFrame()\n",
    "\n",
    "        for f in files:\n",
    "            if f.endswith(\"-history.csv\"):\n",
    "                client = f[2:-len(\".ext4-history.csv\")]\n",
    "                # print(client)\n",
    "                if client != \"Bratislava\":\n",
    "                    continue\n",
    "                df_client = pd.read_csv(os.path.join(\".\", RESULTS_DIR, NAME, f))\n",
    "                df_client.dropna(inplace=True)\n",
    "                df_run = df_client[[\"Timestamp\", \"Type\", \"Name\", \"50%\", \"90%\", \"Total Median Response Time\", \"Total Average Response Time\"]].copy()\n",
    "\n",
    "                df_run[\"Client\"] = client\n",
    "                df_run[\"Experiment\"] = experiment\n",
    "                df_run[\"Run\"] = run\n",
    "                df_run[\"Latitude\"] = locations.loc[locations[\"Client\"] == client, \"Latitude\"].values[0]\n",
    "                df_run[\"Longitude\"] = locations.loc[locations[\"Client\"] == client, \"Longitude\"].values[0]\n",
    "                df_experiment = df_experiment.append(df_run)\n",
    "\n",
    "        df_experiment[\"Timestamp\"] = df_experiment[\"Timestamp\"] - min(df_experiment[\"Timestamp\"])\n",
    "        # start_time = max(df_experiment[\"Timestamp\"]) - 1000\n",
    "        # df_experiment = df_experiment[ (df_experiment[\"Timestamp\"] >  start_time) & (df_experiment[\"Timestamp\"] < start_time+900) ]\n",
    "        # df_experiment[\"Timestamp\"] = df_experiment[\"Timestamp\"] - min(df_experiment[\"Timestamp\"])\n",
    "\n",
    "        df_paper = df_paper.append(df_experiment)\n",
    "\n",
    "df_paper.head()\n"
   ]
  },
  {
   "cell_type": "code",
   "execution_count": 21,
   "metadata": {},
   "outputs": [],
   "source": [
    "graph_df = df_paper[ ((df_paper[\"Name\"] == \"/public/\") & (df_paper[\"Type\"] == \"GET\")) | ((df_paper[\"Name\"] == \"/\") & (df_paper[\"Type\"] == \"POST\")) ]"
   ]
  },
  {
   "cell_type": "code",
   "execution_count": 23,
   "metadata": {},
   "outputs": [
    {
     "data": {
      "text/plain": [
       "<AxesSubplot:xlabel='Timestamp', ylabel='Total Median Response Time'>"
      ]
     },
     "execution_count": 23,
     "metadata": {},
     "output_type": "execute_result"
    },
    {
     "data": {
      "image/png": "[encoded data removed]",
      "text/plain": [
       "<Figure size 720x288 with 1 Axes>"
      ]
     },
     "metadata": {},
     "output_type": "display_data"
    }
   ],
   "source": [
    "sns.lineplot(data=graph_df, x=\"Timestamp\", y=\"Total Median Response Time\", hue=\"Name\", style=\"Experiment\")"
   ]
  }
 ],
 "metadata": {
  "interpreter": {
   "hash": "aee8b7b246df8f9039afb4144a1f6fd8d2ca17a180786b69acc140d282b71a49"
  },
  "kernelspec": {
   "display_name": "Python 3.9.8 64-bit",
   "language": "python",
   "name": "python3"
  },
  "language_info": {
   "codemirror_mode": {
    "name": "ipython",
    "version": 3
   },
   "file_extension": ".py",
   "mimetype": "text/x-python",
   "name": "python",
   "nbconvert_exporter": "python",
   "pygments_lexer": "ipython3",
   "version": "3.9.8"
  },
  "orig_nbformat": 4
 },
 "nbformat": 4,
 "nbformat_minor": 2
}
