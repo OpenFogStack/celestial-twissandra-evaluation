{
 "cells": [
  {
   "cell_type": "code",
   "execution_count": null,
   "metadata": {},
   "outputs": [],
   "source": [
    "import pandas as pd\n",
    "import seaborn as sns\n",
    "import os\n",
    "\n",
    "RESULTS_DIR = \"results\"\n",
    "EXPERIMENT = \"results-cloud-3\""
   ]
  },
  {
   "cell_type": "code",
   "execution_count": null,
   "metadata": {},
   "outputs": [],
   "source": [
    "locations = pd.read_csv(\"eu_cities.csv\")"
   ]
  },
  {
   "cell_type": "code",
   "execution_count": null,
   "metadata": {},
   "outputs": [],
   "source": [
    "df = pd.DataFrame()\n",
    "\n",
    "files = os.listdir(os.path.join(\".\", RESULTS_DIR, EXPERIMENT))\n",
    "\n",
    "for f in files:\n",
    "    if f.endswith(\"-history.csv\"):\n",
    "        client = f[2:-len(\".ext4-history.csv\")]\n",
    "        df_run = pd.read_csv(os.path.join(\".\", RESULTS_DIR, EXPERIMENT, f))\n",
    "        df_run.dropna(inplace=True)\n",
    "        df_run[\"Client\"] = client\n",
    "        df = df.append(df_run)"
   ]
  },
  {
   "cell_type": "code",
   "execution_count": null,
   "metadata": {},
   "outputs": [],
   "source": [
    "df.head()"
   ]
  },
  {
   "cell_type": "code",
   "execution_count": null,
   "metadata": {},
   "outputs": [],
   "source": [
    "len(df[\"Client\"].unique())"
   ]
  },
  {
   "cell_type": "code",
   "execution_count": null,
   "metadata": {},
   "outputs": [],
   "source": [
    "df[\"Timestamp\"] = df[\"Timestamp\"] - min(df[\"Timestamp\"])\n",
    "start_time = max(df[\"Timestamp\"]) - 1000\n",
    "df = df[ (df[\"Timestamp\"] >  start_time) & (df[\"Timestamp\"] < start_time+900) ]\n",
    "df[\"Timestamp\"] = df[\"Timestamp\"] - min(df[\"Timestamp\"])\n",
    "df.head()"
   ]
  },
  {
   "cell_type": "code",
   "execution_count": null,
   "metadata": {},
   "outputs": [],
   "source": [
    "filtered = df[ (df[\"Name\"] == \"/\") ]\n",
    "filtered"
   ]
  },
  {
   "cell_type": "code",
   "execution_count": null,
   "metadata": {},
   "outputs": [],
   "source": [
    "selection = filtered[ filtered[\"Client\"].isin([\"Berlin\", \"Malaga\"]) ]\n",
    "selection"
   ]
  },
  {
   "cell_type": "code",
   "execution_count": null,
   "metadata": {},
   "outputs": [],
   "source": [
    "sns.lineplot(x=\"Timestamp\", y=\"Total Median Response Time\", data=selection, hue=\"Client\", style=\"Type\")"
   ]
  },
  {
   "cell_type": "code",
   "execution_count": null,
   "metadata": {},
   "outputs": [],
   "source": [
    "sns.lineplot(x=\"Timestamp\", y=\"Total Median Response Time\", data=filtered, hue=\"Type\")"
   ]
  },
  {
   "cell_type": "code",
   "execution_count": null,
   "metadata": {},
   "outputs": [],
   "source": [
    "sns.lineplot(x=\"Timestamp\", y=\"Total Median Response Time\", data=df[ (df[\"Name\"] != \"Aggregated\") ], hue=\"Type\", style=\"Name\")"
   ]
  },
  {
   "cell_type": "code",
   "execution_count": null,
   "metadata": {},
   "outputs": [],
   "source": [
    "locations[\"latency\"] = locations[\"city_ascii\"].apply(lambda x: df[ (df[\"Client\"] ==  x) & (df[\"Name\"] == \"/public/\") & (df[\"Type\"] == \"GET\") ][\"Total Median Response Time\"].mean() )\n",
    "locations.head()\n",
    "\n"
   ]
  },
  {
   "cell_type": "code",
   "execution_count": null,
   "metadata": {},
   "outputs": [],
   "source": [
    "locations[ locations[\"city_ascii\"].isin([\"Frankfurt\"]) ]"
   ]
  },
  {
   "cell_type": "code",
   "execution_count": null,
   "metadata": {},
   "outputs": [],
   "source": [
    "sns.scatterplot(x=\"lng\", y=\"lat\", hue=\"latency\", data=locations)"
   ]
  }
 ],
 "metadata": {
  "interpreter": {
   "hash": "aee8b7b246df8f9039afb4144a1f6fd8d2ca17a180786b69acc140d282b71a49"
  },
  "kernelspec": {
   "display_name": "Python 3.9.8 64-bit",
   "language": "python",
   "name": "python3"
  },
  "language_info": {
   "codemirror_mode": {
    "name": "ipython",
    "version": 3
   },
   "file_extension": ".py",
   "mimetype": "text/x-python",
   "name": "python",
   "nbconvert_exporter": "python",
   "pygments_lexer": "ipython3",
   "version": "3.9.8"
  },
  "orig_nbformat": 4
 },
 "nbformat": 4,
 "nbformat_minor": 2
}
